{
 "cells": [
  {
   "cell_type": "code",
   "execution_count": 18,
   "metadata": {
    "colab": {
     "base_uri": "https://localhost:8080/"
    },
    "id": "ndy2OQ7UEgyp",
    "outputId": "1b445cc1-fc31-41c4-ecab-7ee526918e51"
   },
   "outputs": [
    {
     "name": "stdout",
     "output_type": "stream",
     "text": [
      "Drive already mounted at /content/gdrive; to attempt to forcibly remount, call drive.mount(\"/content/gdrive\", force_remount=True).\n"
     ]
    }
   ],
   "source": [
    "from google.colab import drive\n",
    "drive.mount('/content/gdrive')"
   ]
  },
  {
   "cell_type": "code",
   "execution_count": 19,
   "metadata": {
    "colab": {
     "base_uri": "https://localhost:8080/"
    },
    "id": "1P7gVD0SFMKI",
    "outputId": "fe5e945e-4d42-46f6-a60b-718995cc9daf"
   },
   "outputs": [
    {
     "name": "stdout",
     "output_type": "stream",
     "text": [
      "'/content/gdrive/My Drive/HodaDatasetReader.py'\n"
     ]
    }
   ],
   "source": [
    "!ls /content/gdrive/My\\ Drive/*.py"
   ]
  },
  {
   "cell_type": "code",
   "execution_count": 20,
   "metadata": {
    "colab": {
     "base_uri": "https://localhost:8080/"
    },
    "id": "RNuU5sL9F08O",
    "outputId": "6c63ab65-ec9a-4a2f-f6f3-88ae9e671344"
   },
   "outputs": [
    {
     "name": "stdout",
     "output_type": "stream",
     "text": [
      "# *-* coding: utf-8 *-*\n",
      "\n",
      "# Hoda Dataset Reader\n",
      "# Python code for reading Hoda farsi digit dataset.\n",
      "\n",
      "# Hoda Farsi Digit Dataset:\n",
      "# http://farsiocr.ir/\n",
      "# http://farsiocr.ir/مجموعه-داده/مجموعه-ارقام-دستنویس-هدی\n",
      "# http://dadegan.ir/catalog/hoda\n",
      "\n",
      "# Repository:\n",
      "# https://github.com/amir-saniyan/HodaDatasetReader\n",
      "\n",
      "import struct\n",
      "import numpy as np\n",
      "import cv2\n",
      "\n",
      "\n",
      "def __convert_to_one_hot(vector, num_classes):\n",
      "    result = np.zeros(shape=[len(vector), num_classes])\n",
      "    result[np.arange(len(vector)), vector] = 1\n",
      "    return result\n",
      "\n",
      "\n",
      "def __resize_image(src_image, dst_image_height, dst_image_width):\n",
      "    src_image_height = src_image.shape[0]\n",
      "    src_image_width = src_image.shape[1]\n",
      "\n",
      "    if src_image_height > dst_image_height or src_image_width > dst_image_width:\n",
      "        height_scale = dst_image_height / src_image_height\n",
      "        width_scale = dst_image_width / src_image_width\n",
      "        scale = min(height_scale, width_scale)\n",
      "        img = cv2.resize(src=src_image, dsize=(0, 0), fx=scale, fy=scale, interpolation=cv2.INTER_CUBIC)\n",
      "    else:\n",
      "        img = src_image\n",
      "\n",
      "    img_height = img.shape[0]\n",
      "    img_width = img.shape[1]\n",
      "\n",
      "    dst_image = np.zeros(shape=[dst_image_height, dst_image_width], dtype=np.uint8)\n",
      "\n",
      "    y_offset = (dst_image_height - img_height) // 2\n",
      "    x_offset = (dst_image_width - img_width) // 2\n",
      "\n",
      "    dst_image[y_offset:y_offset+img_height, x_offset:x_offset+img_width] = img\n",
      "\n",
      "    return dst_image\n",
      "\n",
      "\n",
      "def read_hoda_cdb(file_name):\n",
      "    with open(file_name, 'rb') as binary_file:\n",
      "\n",
      "        data = binary_file.read()\n",
      "\n",
      "        offset = 0\n",
      "\n",
      "        # read private header\n",
      "\n",
      "        yy = struct.unpack_from('H', data, offset)[0]\n",
      "        offset += 2\n",
      "\n",
      "        m = struct.unpack_from('B', data, offset)[0]\n",
      "        offset += 1\n",
      "\n",
      "        d = struct.unpack_from('B', data, offset)[0]\n",
      "        offset += 1\n",
      "\n",
      "        H = struct.unpack_from('B', data, offset)[0]\n",
      "        offset += 1\n",
      "\n",
      "        W = struct.unpack_from('B', data, offset)[0]\n",
      "        offset += 1\n",
      "\n",
      "        TotalRec = struct.unpack_from('I', data, offset)[0]\n",
      "        offset += 4\n",
      "\n",
      "        LetterCount = struct.unpack_from('128I', data, offset)\n",
      "        offset += 128 * 4\n",
      "\n",
      "        imgType = struct.unpack_from('B', data, offset)[0]  # 0: binary, 1: gray\n",
      "        offset += 1\n",
      "\n",
      "        Comments = struct.unpack_from('256c', data, offset)\n",
      "        offset += 256 * 1\n",
      "\n",
      "        Reserved = struct.unpack_from('245c', data, offset)\n",
      "        offset += 245 * 1\n",
      "\n",
      "        if (W > 0) and (H > 0):\n",
      "            normal = True\n",
      "        else:\n",
      "            normal = False\n",
      "\n",
      "        images = []\n",
      "        labels = []\n",
      "\n",
      "        for i in range(TotalRec):\n",
      "\n",
      "            StartByte = struct.unpack_from('B', data, offset)[0]  # must be 0xff\n",
      "            offset += 1\n",
      "\n",
      "            label = struct.unpack_from('B', data, offset)[0]\n",
      "            offset += 1\n",
      "\n",
      "            if not normal:\n",
      "                W = struct.unpack_from('B', data, offset)[0]\n",
      "                offset += 1\n",
      "\n",
      "                H = struct.unpack_from('B', data, offset)[0]\n",
      "                offset += 1\n",
      "\n",
      "            ByteCount = struct.unpack_from('H', data, offset)[0]\n",
      "            offset += 2\n",
      "\n",
      "            image = np.zeros(shape=[H, W], dtype=np.uint8)\n",
      "\n",
      "            if imgType == 0:\n",
      "                # Binary\n",
      "                for y in range(H):\n",
      "                    bWhite = True\n",
      "                    counter = 0\n",
      "                    while counter < W:\n",
      "                        WBcount = struct.unpack_from('B', data, offset)[0]\n",
      "                        offset += 1\n",
      "                        # x = 0\n",
      "                        # while x < WBcount:\n",
      "                        #     if bWhite:\n",
      "                        #         image[y, x + counter] = 0  # Background\n",
      "                        #     else:\n",
      "                        #         image[y, x + counter] = 255  # ForeGround\n",
      "                        #     x += 1\n",
      "                        if bWhite:\n",
      "                            image[y, counter:counter + WBcount] = 0  # Background\n",
      "                        else:\n",
      "                            image[y, counter:counter + WBcount] = 255  # ForeGround\n",
      "                        bWhite = not bWhite  # black white black white ...\n",
      "                        counter += WBcount\n",
      "            else:\n",
      "                # GrayScale mode\n",
      "                data = struct.unpack_from('{}B'.format(W * H), data, offset)\n",
      "                offset += W * H\n",
      "                image = np.asarray(data, dtype=np.uint8).reshape([W, H]).T\n",
      "\n",
      "            images.append(image)\n",
      "            labels.append(label)\n",
      "\n",
      "        return images, labels\n",
      "\n",
      "\n",
      "def read_hoda_dataset(dataset_path, images_height=32, images_width=32, one_hot=False, reshape=True):\n",
      "    images, labels = read_hoda_cdb(dataset_path)\n",
      "    assert len(images) == len(labels)\n",
      "\n",
      "    X = np.zeros(shape=[len(images), images_height, images_width], dtype=np.float32)\n",
      "    Y = np.zeros(shape=[len(labels)], dtype=np.int)\n",
      "\n",
      "    for i in range(len(images)):\n",
      "        image = images[i]\n",
      "        # Image resizing.\n",
      "        image = __resize_image(src_image=image, dst_image_height=images_height, dst_image_width=images_width)\n",
      "        # Image normalization.\n",
      "        image = image / 255\n",
      "        # Image binarization.\n",
      "        image = np.where(image >= 0.5, 1, 0)\n",
      "        # Image.\n",
      "        X[i] = image\n",
      "        # Label.\n",
      "        Y[i] = labels[i]\n",
      "\n",
      "    if one_hot:\n",
      "        Y = __convert_to_one_hot(Y, 10).astype(dtype=np.float32)\n",
      "    else:\n",
      "        Y = Y.astype(dtype=np.float32)\n",
      "\n",
      "    if reshape:\n",
      "        X = X.reshape(-1, images_height * images_width)\n",
      "    else:\n",
      "        X = X.reshape(-1, images_height, images_width, 1)\n",
      "\n",
      "    return X, Y\n"
     ]
    }
   ],
   "source": [
    "!cat '/content/gdrive/My Drive/HodaDatasetReader.py'"
   ]
  },
  {
   "cell_type": "code",
   "execution_count": 21,
   "metadata": {
    "id": "Oi7KX9-jF2gF"
   },
   "outputs": [],
   "source": [
    "import sys\n",
    "sys.path.append('/content/gdrive/My Drive')"
   ]
  },
  {
   "cell_type": "code",
   "execution_count": 22,
   "metadata": {
    "id": "s7JiiU6ZF5e1"
   },
   "outputs": [],
   "source": [
    "import HodaDatasetReader"
   ]
  },
  {
   "cell_type": "code",
   "execution_count": 23,
   "metadata": {
    "id": "PSpAkUMcEZZM"
   },
   "outputs": [],
   "source": [
    "from tensorflow import keras\n",
    "from matplotlib import pyplot as plt\n",
    "import numpy as np\n",
    "import cv2 \n",
    "from HodaDatasetReader import read_hoda_dataset"
   ]
  },
  {
   "cell_type": "code",
   "execution_count": 24,
   "metadata": {
    "colab": {
     "base_uri": "https://localhost:8080/"
    },
    "id": "kBmzEXJZ_2l-",
    "outputId": "5b5d8ef0-fedf-4328-8d88-f54b44775fc4"
   },
   "outputs": [
    {
     "name": "stdout",
     "output_type": "stream",
     "text": [
      "Reading train dataset (Train 60000.cdb)...\n",
      "Reading test dataset (Test 20000.cdb)...\n",
      "Reading remaining dataset...\n"
     ]
    }
   ],
   "source": [
    "# load dataset\n",
    "print('Reading train dataset (Train 60000.cdb)...')\n",
    "x_train, y_train = read_hoda_dataset(dataset_path='/content/gdrive/My Drive/DigitDB/Train 60000.cdb',\n",
    "                                images_height=32,\n",
    "                                images_width=32,\n",
    "                                one_hot=False,\n",
    "                                reshape=False)\n",
    "\n",
    "print('Reading test dataset (Test 20000.cdb)...')\n",
    "x_test, y_test = read_hoda_dataset(dataset_path='/content/gdrive/My Drive/DigitDB/Test 20000.cdb',\n",
    "                              images_height=32,\n",
    "                              images_width=32,\n",
    "                              one_hot=False,\n",
    "                              reshape=False)\n",
    "\n",
    "print('Reading remaining dataset...')\n",
    "x_valid, y_valid = read_hoda_dataset(dataset_path='/content/gdrive/My Drive/DigitDB/RemainingSamples.cdb',\n",
    "                              images_height=32,\n",
    "                              images_width=32,\n",
    "                              one_hot=False,\n",
    "                              reshape=False)"
   ]
  },
  {
   "cell_type": "code",
   "execution_count": 25,
   "metadata": {
    "id": "WjTQNzUwPm2P"
   },
   "outputs": [],
   "source": [
    "# Convert class vectors to binary class matrices.\n",
    "num_classes = 10\n",
    "y_train = keras.utils.to_categorical(y_train, num_classes)\n",
    "y_test = keras.utils.to_categorical(y_test, num_classes)"
   ]
  },
  {
   "cell_type": "code",
   "execution_count": 30,
   "metadata": {
    "colab": {
     "base_uri": "https://localhost:8080/"
    },
    "id": "Tol9acZRPnkz",
    "outputId": "e5f8a072-805b-4e46-ac55-d2d6e885a427"
   },
   "outputs": [
    {
     "name": "stdout",
     "output_type": "stream",
     "text": [
      "Model: \"sequential_4\"\n",
      "_________________________________________________________________\n",
      "Layer (type)                 Output Shape              Param #   \n",
      "=================================================================\n",
      "conv2d_8 (Conv2D)            (None, 28, 28, 128)       3328      \n",
      "_________________________________________________________________\n",
      "max_pooling2d_8 (MaxPooling2 (None, 14, 14, 128)       0         \n",
      "_________________________________________________________________\n",
      "conv2d_9 (Conv2D)            (None, 10, 10, 128)       409728    \n",
      "_________________________________________________________________\n",
      "max_pooling2d_9 (MaxPooling2 (None, 5, 5, 128)         0         \n",
      "_________________________________________________________________\n",
      "flatten_4 (Flatten)          (None, 3200)              0         \n",
      "_________________________________________________________________\n",
      "dense_12 (Dense)             (None, 120)               384120    \n",
      "_________________________________________________________________\n",
      "dense_13 (Dense)             (None, 84)                10164     \n",
      "_________________________________________________________________\n",
      "dense_14 (Dense)             (None, 10)                850       \n",
      "=================================================================\n",
      "Total params: 808,190\n",
      "Trainable params: 808,190\n",
      "Non-trainable params: 0\n",
      "_________________________________________________________________\n"
     ]
    }
   ],
   "source": [
    "# define model\n",
    "model = keras.Sequential()\n",
    "model.add(keras.layers.Input(shape=x_train[0].shape))\n",
    "model.add(keras.layers.Conv2D(filters=128, kernel_size=(5, 5), activation='relu'))\n",
    "model.add(keras.layers.MaxPool2D())\n",
    "model.add(keras.layers.Conv2D(filters=128, kernel_size=(5, 5), activation='relu'))\n",
    "model.add(keras.layers.MaxPool2D())\n",
    "model.add(keras.layers.Flatten())\n",
    "model.add(keras.layers.Dense(units=120, activation='relu'))\n",
    "model.add(keras.layers.Dense(units=84, activation='relu'))\n",
    "model.add(keras.layers.Dense(units=num_classes, activation='softmax'))\n",
    "\n",
    "model.summary()"
   ]
  },
  {
   "cell_type": "code",
   "execution_count": 33,
   "metadata": {
    "colab": {
     "base_uri": "https://localhost:8080/"
    },
    "id": "GXfy04FMPnru",
    "outputId": "039d4209-698b-49de-a17e-db25e7ae186a"
   },
   "outputs": [
    {
     "name": "stdout",
     "output_type": "stream",
     "text": [
      "Epoch 1/20\n",
      "600/600 [==============================] - 435s 725ms/step - loss: 0.0295 - accuracy: 0.9904 - val_loss: 0.0425 - val_accuracy: 0.9862\n",
      "Epoch 2/20\n",
      "600/600 [==============================] - 429s 716ms/step - loss: 0.0120 - accuracy: 0.9961 - val_loss: 0.0313 - val_accuracy: 0.9912\n",
      "Epoch 3/20\n",
      "600/600 [==============================] - 428s 714ms/step - loss: 0.0073 - accuracy: 0.9976 - val_loss: 0.0440 - val_accuracy: 0.9876\n",
      "Epoch 4/20\n",
      "600/600 [==============================] - 428s 714ms/step - loss: 0.0063 - accuracy: 0.9980 - val_loss: 0.0401 - val_accuracy: 0.9900\n",
      "Epoch 5/20\n",
      "600/600 [==============================] - 428s 713ms/step - loss: 0.0054 - accuracy: 0.9984 - val_loss: 0.0306 - val_accuracy: 0.9912\n",
      "Epoch 6/20\n",
      "600/600 [==============================] - 428s 713ms/step - loss: 0.0051 - accuracy: 0.9984 - val_loss: 0.0295 - val_accuracy: 0.9930\n",
      "Epoch 7/20\n",
      "600/600 [==============================] - 432s 720ms/step - loss: 0.0025 - accuracy: 0.9992 - val_loss: 0.0355 - val_accuracy: 0.9927\n",
      "Epoch 8/20\n",
      "600/600 [==============================] - 433s 721ms/step - loss: 0.0042 - accuracy: 0.9987 - val_loss: 0.0390 - val_accuracy: 0.9911\n",
      "Epoch 9/20\n",
      "600/600 [==============================] - 431s 718ms/step - loss: 0.0036 - accuracy: 0.9990 - val_loss: 0.0339 - val_accuracy: 0.9929\n",
      "Epoch 10/20\n",
      "600/600 [==============================] - 430s 717ms/step - loss: 0.0019 - accuracy: 0.9994 - val_loss: 0.0348 - val_accuracy: 0.9916\n",
      "Epoch 11/20\n",
      "600/600 [==============================] - 429s 715ms/step - loss: 0.0040 - accuracy: 0.9988 - val_loss: 0.0419 - val_accuracy: 0.9909\n",
      "Epoch 12/20\n",
      "600/600 [==============================] - 430s 717ms/step - loss: 0.0024 - accuracy: 0.9994 - val_loss: 0.0340 - val_accuracy: 0.9926\n",
      "Epoch 13/20\n",
      "600/600 [==============================] - 428s 713ms/step - loss: 0.0028 - accuracy: 0.9992 - val_loss: 0.0466 - val_accuracy: 0.9916\n",
      "Epoch 14/20\n",
      "600/600 [==============================] - 428s 713ms/step - loss: 9.8280e-04 - accuracy: 0.9998 - val_loss: 0.0409 - val_accuracy: 0.9923\n",
      "Epoch 15/20\n",
      "600/600 [==============================] - 428s 714ms/step - loss: 0.0021 - accuracy: 0.9993 - val_loss: 0.0382 - val_accuracy: 0.9922\n",
      "Epoch 16/20\n",
      "600/600 [==============================] - 428s 714ms/step - loss: 0.0010 - accuracy: 0.9996 - val_loss: 0.0363 - val_accuracy: 0.9940\n",
      "Epoch 17/20\n",
      "600/600 [==============================] - 434s 723ms/step - loss: 0.0023 - accuracy: 0.9994 - val_loss: 0.0469 - val_accuracy: 0.9923\n",
      "Epoch 18/20\n",
      "600/600 [==============================] - 435s 725ms/step - loss: 0.0030 - accuracy: 0.9989 - val_loss: 0.0327 - val_accuracy: 0.9940\n",
      "Epoch 19/20\n",
      "600/600 [==============================] - 432s 721ms/step - loss: 9.3293e-04 - accuracy: 0.9997 - val_loss: 0.0532 - val_accuracy: 0.9920\n",
      "Epoch 20/20\n",
      "600/600 [==============================] - 434s 723ms/step - loss: 0.0016 - accuracy: 0.9996 - val_loss: 0.0364 - val_accuracy: 0.9941\n"
     ]
    }
   ],
   "source": [
    "# compile model\n",
    "model.compile(loss='categorical_crossentropy', optimizer='adam', metrics=['accuracy'])\n",
    "\n",
    "# train model\n",
    "history = model.fit(x_train, y_train,\n",
    "                    batch_size=100,\n",
    "                    epochs=20,\n",
    "                    validation_data=(x_test, y_test),\n",
    "                    shuffle=True)"
   ]
  },
  {
   "cell_type": "code",
   "execution_count": 35,
   "metadata": {
    "colab": {
     "base_uri": "https://localhost:8080/",
     "height": 664
    },
    "id": "yBMLZ4hAP1-F",
    "outputId": "05ea2ae7-4fc3-4e88-cb6f-e56330ca362d"
   },
   "outputs": [
    {
     "name": "stdout",
     "output_type": "stream",
     "text": [
      "accuracy is: 0.99405\n",
      "###################################################\n",
      "[[1994    0    0    0    1    3    0    1    0    1]\n",
      " [   0 1995    0    0    1    0    0    0    1    3]\n",
      " [   0    4 1983    3    2    0    3    2    0    3]\n",
      " [   0    0   27 1958   14    1    0    0    0    0]\n",
      " [   1    0    5    5 1986    0    2    0    0    1]\n",
      " [   4    0    1    0    2 1993    0    0    0    0]\n",
      " [   0    0    0    0    1    3 1989    2    0    5]\n",
      " [   0    1    0    0    0    0    0 1999    0    0]\n",
      " [   0    0    0    0    1    1    0    0 1998    0]\n",
      " [   0    3    0    0    1    3    6    0    1 1986]]\n",
      "###################################################\n",
      "[[0.997 0.    0.    0.    0.    0.002 0.    0.    0.    0.   ]\n",
      " [0.    0.998 0.    0.    0.    0.    0.    0.    0.    0.002]\n",
      " [0.    0.002 0.992 0.002 0.001 0.    0.002 0.001 0.    0.002]\n",
      " [0.    0.    0.014 0.979 0.007 0.    0.    0.    0.    0.   ]\n",
      " [0.    0.    0.002 0.002 0.993 0.    0.001 0.    0.    0.   ]\n",
      " [0.002 0.    0.    0.    0.001 0.996 0.    0.    0.    0.   ]\n",
      " [0.    0.    0.    0.    0.    0.002 0.994 0.001 0.    0.002]\n",
      " [0.    0.    0.    0.    0.    0.    0.    1.    0.    0.   ]\n",
      " [0.    0.    0.    0.    0.    0.    0.    0.    0.999 0.   ]\n",
      " [0.    0.002 0.    0.    0.    0.002 0.003 0.    0.    0.993]]\n"
     ]
    },
    {
     "data": {
      "image/png": "[encoded data removed]",
      "text/plain": [
       "<Figure size 432x288 with 1 Axes>"
      ]
     },
     "metadata": {
      "needs_background": "light",
      "tags": []
     },
     "output_type": "display_data"
    }
   ],
   "source": [
    "# predict\n",
    "y_pred = model.predict(x_test)\n",
    "\n",
    "# evaluation\n",
    "import sklearn.metrics\n",
    "\n",
    "y_pred = np.argmax(y_pred, axis=1)\n",
    "y_true = np.argmax(y_test, axis=1)\n",
    "\n",
    "# accuracy\n",
    "acc = sklearn.metrics.accuracy_score(y_true, y_pred, normalize=True)\n",
    "print(\"accuracy is:\",acc)\n",
    "print(\"###################################################\")\n",
    "\n",
    "# plot confusion matrix\n",
    "conf = sklearn.metrics.confusion_matrix(y_true, y_pred, normalize=None)\n",
    "plt.imshow(conf)\n",
    "print(conf)\n",
    "print(\"###################################################\")\n",
    "conf_norm = sklearn.metrics.confusion_matrix(y_true, y_pred, normalize='true')\n",
    "print(np.round(conf_norm, 3))"
   ]
  },
  {
   "cell_type": "code",
   "execution_count": 36,
   "metadata": {
    "colab": {
     "base_uri": "https://localhost:8080/",
     "height": 1000
    },
    "id": "8fSILgSMQj7H",
    "outputId": "ce935a50-00ac-4c52-9b53-9715928e43f6"
   },
   "outputs": [
    {
     "name": "stdout",
     "output_type": "stream",
     "text": [
      "0 => 5\n",
      "[0.001 0.    0.    0.001 0.383 0.615 0.    0.    0.    0.   ]\n"
     ]
    },
    {
     "data": {
      "image/png": "[encoded data removed]",
      "text/plain": [
       "<Figure size 432x288 with 1 Axes>"
      ]
     },
     "metadata": {
      "tags": []
     },
     "output_type": "display_data"
    },
    {
     "name": "stdout",
     "output_type": "stream",
     "text": [
      "0 => 4\n",
      "[0.457 0.    0.    0.001 0.542 0.001 0.    0.    0.    0.   ]\n"
     ]
    },
    {
     "data": {
      "image/png": "[encoded data removed]",
      "text/plain": [
       "<Figure size 432x288 with 1 Axes>"
      ]
     },
     "metadata": {
      "tags": []
     },
     "output_type": "display_data"
    },
    {
     "name": "stdout",
     "output_type": "stream",
     "text": [
      "0 => 5\n",
      "[0. 0. 0. 0. 0. 1. 0. 0. 0. 0.]\n"
     ]
    },
    {
     "data": {
      "image/png": "[encoded data removed]",
      "text/plain": [
       "<Figure size 432x288 with 1 Axes>"
      ]
     },
     "metadata": {
      "tags": []
     },
     "output_type": "display_data"
    },
    {
     "name": "stdout",
     "output_type": "stream",
     "text": [
      "0 => 5\n",
      "[0.46 0.   0.   0.   0.   0.54 0.   0.   0.   0.  ]\n"
     ]
    },
    {
     "data": {
      "image/png": "[encoded data removed]",
      "text/plain": [
       "<Figure size 432x288 with 1 Axes>"
      ]
     },
     "metadata": {
      "tags": []
     },
     "output_type": "display_data"
    },
    {
     "name": "stdout",
     "output_type": "stream",
     "text": [
      "0 => 9\n",
      "[0.006 0.    0.    0.    0.    0.    0.    0.    0.    0.994]\n"
     ]
    },
    {
     "data": {
      "image/png": "[encoded data removed]",
      "text/plain": [
       "<Figure size 432x288 with 1 Axes>"
      ]
     },
     "metadata": {
      "tags": []
     },
     "output_type": "display_data"
    },
    {
     "name": "stdout",
     "output_type": "stream",
     "text": [
      "0 => 7\n",
      "[0.179 0.041 0.    0.004 0.    0.307 0.024 0.436 0.004 0.005]\n"
     ]
    },
    {
     "data": {
      "image/png": "[encoded data removed]",
      "text/plain": [
       "<Figure size 432x288 with 1 Axes>"
      ]
     },
     "metadata": {
      "tags": []
     },
     "output_type": "display_data"
    },
    {
     "name": "stdout",
     "output_type": "stream",
     "text": [
      "1 => 9\n",
      "[0.    0.004 0.    0.    0.    0.    0.    0.    0.    0.996]\n"
     ]
    },
    {
     "data": {
      "image/png": "[encoded data removed]",
      "text/plain": [
       "<Figure size 432x288 with 1 Axes>"
      ]
     },
     "metadata": {
      "tags": []
     },
     "output_type": "display_data"
    },
    {
     "name": "stdout",
     "output_type": "stream",
     "text": [
      "1 => 8\n",
      "[0.    0.001 0.    0.    0.    0.    0.045 0.    0.954 0.   ]\n"
     ]
    },
    {
     "data": {
      "image/png": "[encoded data removed]",
      "text/plain": [
       "<Figure size 432x288 with 1 Axes>"
      ]
     },
     "metadata": {
      "tags": []
     },
     "output_type": "display_data"
    }
   ],
   "source": [
    "# show errors\n",
    "y_pred = model.predict(x_test)\n",
    "\n",
    "idx = np.where(np.argmax(y_pred, axis=1) != np.argmax(y_test, axis=1))[0]\n",
    "\n",
    "for i in idx[:8]:\n",
    "  print('{} => {}'.format(np.argmax(y_test[i]), np.argmax(y_pred[i])))\n",
    "  print(np.round(y_pred[i], 3))\n",
    "  plt.figure()\n",
    "  plt.imshow(x_test[i][..., 0], cmap='gray')\n",
    "  plt.xticks([])\n",
    "  plt.yticks([])\n",
    "  plt.show()"
   ]
  }
 ],
 "metadata": {
  "colab": {
   "collapsed_sections": [],
   "name": "image_proccesing1.ipynb",
   "provenance": []
  },
  "kernelspec": {
   "display_name": "Python 3",
   "language": "python",
   "name": "python3"
  },
  "language_info": {
   "codemirror_mode": {
    "name": "ipython",
    "version": 3
   },
   "file_extension": ".py",
   "mimetype": "text/x-python",
   "name": "python",
   "nbconvert_exporter": "python",
   "pygments_lexer": "ipython3",
   "version": "3.9.2"
  }
 },
 "nbformat": 4,
 "nbformat_minor": 1
}
